{
 "cells": [
  {
   "cell_type": "markdown",
   "metadata": {},
   "source": [
    "# 3. 조건문"
   ]
  },
  {
   "cell_type": "markdown",
   "metadata": {},
   "source": [
    "## if else 구문\n",
    "\n",
    "### Statement\n",
    "\n",
    "Python interpreter가 실행 가능한 문법에 옳은 문장들을 statement라 한다.  \n",
    "앞 장에서 공부한 statement들과 더불어 조건문과 반복문을 공부해 보자.\n",
    "\n",
    "* ```1 + 2```\n",
    "* ```x = 7```\n",
    "* ```print(\"Hello\")```\n",
    "* ```newstring = \"ABCD\".lower()```\n",
    "* 조건문\n",
    "* 반복문\n",
    "\n",
    "\n",
    "### 조건문\n",
    "\n",
    "프로그래머가 명시한 ```if```의 조건이 ```True```인가 ```False```인가에 따라 실행하는 문장(statement)이 달라지는 구문\n",
    " * 테스트 구문은 항상 ```True``` 혹은 ```False```로 계산된다.\n",
    " * ```if```절의 다음에는 만약 테스트 결과가 ```True```일 경우 실행될 코드 블록이 나타난다.\n",
    "    * 만약 테스트 구문이 ```False```로 판명나면 실행하지 않는다.\n",
    " * 추가적으로 만약 테스트 구문이 ```False```일 때 할 일을 나타낼 수 있다.\n",
    "    * 이에 해당되는 코드는 ```else``` 혹은 ```elif```의 구문에서 나타난다.\n",
    "\n",
    "<img src=\"https://github.com/ksublee/SPuP/blob/master/figure/if.png?raw=true\" width=\"250\" height=\"175\" />\n",
    "그림 출처 : Introduction to Computation and Programming Using Python, John V. Guttag"
   ]
  },
  {
   "cell_type": "markdown",
   "metadata": {},
   "source": [
    "아래 예제에 대한 간략한 설명이다. \n",
    "\n",
    "```x % 2 == 0``` (x를 2로 나눈 나머지가 0인가)의 연산결과가 ```True```이면\n",
    "* ```print('Even')```을 실행\n",
    "\n",
    "```False```이면\n",
    "* ```print('Odd')```을 실행"
   ]
  },
  {
   "cell_type": "code",
   "execution_count": 32,
   "metadata": {},
   "outputs": [
    {
     "name": "stdout",
     "output_type": "stream",
     "text": [
      "Odd\n"
     ]
    }
   ],
   "source": [
    "x = 15\n",
    "if x % 2 == 0:\n",
    "    print('Even')\n",
    "else:\n",
    "    print('Odd')"
   ]
  },
  {
   "cell_type": "markdown",
   "metadata": {},
   "source": [
    "### ```if```, ```else``` 문의 문법 구조\n",
    "\n",
    "* ```if else```구문의 기본적인 구조는 다음과 같다.\n",
    "\n",
    "```\n",
    "if 조건문:  \n",
    "  조건문 결과가 True일 경우 해야 할 일  \n",
    "else:  \n",
    "  조건문 결과가 False일 경우 해야 할 일\n",
    "```\n",
    "    \n",
    "* ```if```문과 ```else```의 마지막에 ```:```를 포함하여야 한다.\n",
    "* ```if```문은 test 조건문이 ```True```일 경우에 실행되는 코드 블록을 포함함.\n",
    "* ```else``` 문은 ```if``` 문에있는 조건식이 ```0``` 또는 ```False``` 값으로 해석될 때 실행되는 코드 블록을 포함함.\n",
    "* ```if```문과 ```else```의 내용은 들여쓰기(indentation)를 해야 함.\n",
    "* 하나의 ```if```에 대응되는 ```else```는 많아야 한 개  \n",
    "  * 필요가 없을 경우 ```else``` 문은 생략 가능 \n",
    "* 코드가 간단할 경우, 줄을 바꿔 들여쓰기를 하지 않고, 다음과 같은 문법도 가능하다.\n",
    "\n",
    "```\n",
    "if 조건문: 조건문 결과가 True일 경우 해야 할 일\n",
    "else: 조건문 결과가 False일 경우 해야 할 일\n",
    "```"
   ]
  },
  {
   "cell_type": "code",
   "execution_count": 4,
   "metadata": {},
   "outputs": [
    {
     "name": "stdout",
     "output_type": "stream",
     "text": [
      "get drunk\n"
     ]
    }
   ],
   "source": [
    "my_age = 25\n",
    "if my_age >= 20: print(\"get drunk\")\n",
    "else: print(\"not this time\")"
   ]
  },
  {
   "cell_type": "code",
   "execution_count": 1,
   "metadata": {},
   "outputs": [
    {
     "name": "stdout",
     "output_type": "stream",
     "text": [
      "not this time\n"
     ]
    }
   ],
   "source": [
    "my_age = 17\n",
    "if my_age >= 20: print(\"get drunk\")\n",
    "else: print(\"not this time\")"
   ]
  },
  {
   "cell_type": "markdown",
   "metadata": {},
   "source": [
    "```else``` 이 후의 내용이 필요 없을 경우 ```else``` 부분은 생략 가능"
   ]
  },
  {
   "cell_type": "code",
   "execution_count": 5,
   "metadata": {},
   "outputs": [
    {
     "name": "stdout",
     "output_type": "stream",
     "text": [
      "take a shower\n",
      "do a laundry\n"
     ]
    }
   ],
   "source": [
    "my_status = 'dirty'\n",
    "if my_status == 'dirty':\n",
    "    print(\"take a shower\")\n",
    "    print(\"do a laundry\")"
   ]
  },
  {
   "cell_type": "code",
   "execution_count": 6,
   "metadata": {},
   "outputs": [],
   "source": [
    "my_status = 'clean'\n",
    "if my_status == 'dirty':\n",
    "    print(\"take a shower\")\n",
    "    print(\"do a laundry\")"
   ]
  },
  {
   "cell_type": "markdown",
   "metadata": {},
   "source": [
    "* 예제 - 지불 금액 구하기\n",
    "\n",
    "  사용자가 구매할 물건의 가격을 입력하면 할인액을 계산해 지불 금액을 알려주자\n",
    "  할인액은 구입 금액이 10만원 이상이면 5%할인을 해준다. "
   ]
  },
  {
   "cell_type": "markdown",
   "metadata": {},
   "source": [
    "price=int(input('구입 금액을 입력하세요 : '))\n",
    "if price > 100000:\n",
    "    price = price * 0.95\n",
    "\n",
    "print('지불 금액은' , price, '원 입니다.')"
   ]
  },
  {
   "cell_type": "markdown",
   "metadata": {},
   "source": [
    "* 예제\n",
    "\n",
    "소금물의 소금이 30을 넘는 경우 농도가 진하다고 하고, 30을 넘지 않는 경우 농도가 진하지 않다고 한다."
   ]
  },
  {
   "cell_type": "code",
   "execution_count": 2,
   "metadata": {},
   "outputs": [
    {
     "name": "stdout",
     "output_type": "stream",
     "text": [
      "농도가 진하다.\n"
     ]
    }
   ],
   "source": [
    "x = 35\n",
    "if x > 30 :\n",
    "    print(\"농도가 진하다.\")\n",
    "else :\n",
    "    print(\"농도가 진하지않다.\")"
   ]
  },
  {
   "cell_type": "markdown",
   "metadata": {},
   "source": [
    "### 예제\n",
    "\n",
    "* 환율우대쿠폰 소지여부에 따른 USD환율 계산기"
   ]
  },
  {
   "cell_type": "markdown",
   "metadata": {},
   "source": [
    "* 시험점수에 따른 컴퓨터활용능력 1급 필기시험 합격엽 알아보기"
   ]
  },
  {
   "cell_type": "markdown",
   "metadata": {},
   "source": [
    "# "
   ]
  },
  {
   "cell_type": "code",
   "execution_count": 1,
   "metadata": {},
   "outputs": [
    {
     "name": "stdout",
     "output_type": "stream",
     "text": [
      "컴퓨터 활용능력 1급 필기 합격입니다.\n"
     ]
    }
   ],
   "source": [
    "\n",
    "grade1=70\n",
    "grade2=60\n",
    "grade3=90\n",
    "if (grade1+grade2+grade3)/3 > 60 :\n",
    "    if grade1<40 or grade2<40 or grade3<40 :\n",
    "        print(\"컴퓨터 활용능력 1급 필기 불합격입니다.\")\n",
    "    else: \n",
    "        print(\"컴퓨터 활용능력 1급 필기 합격입니다.\")"
   ]
  },
  {
   "cell_type": "code",
   "execution_count": 2,
   "metadata": {
    "scrolled": true
   },
   "outputs": [
    {
     "name": "stdout",
     "output_type": "stream",
     "text": [
      "exchange Korean money : 124050\n",
      "Are you have Preferential exchange rate coupon? (yes or no) : yes\n",
      "$ 105.0\n"
     ]
    }
   ],
   "source": [
    "#2020.5.23 기준의 환율로 계산을 하였음.\n",
    "Korean_money = int(input(\"exchange Korean money : \")) #얼마나 돈을 바꿀건지의 대한 코드\n",
    "coupon = input(\"Are you have Preferential exchange rate coupon? (yes or no) : \") #환율우대쿠폰 여부\n",
    "if coupon == 'yes' :\n",
    "    USD_money = (1/1240.5 * Korean_money) + (0.05 * (1/1240.5 * Korean_money)) #쿠폰의 소지자는 5%를 더 주기로 하였음.\n",
    "else : USD_money = 1/1240.5 * Korean_money\n",
    "print(\"$\" , round(USD_money,2)) #소수점 둘째자리까지 반올림"
   ]
  },
  {
   "cell_type": "markdown",
   "metadata": {},
   "source": []
  },
  {
   "cell_type": "markdown",
   "metadata": {},
   "source": [
    "#### 들여쓰기 - indentation\n",
    "* C/C++이나 JAVA와 같은 언어에서는 들여쓰기는 코드를 보기 좋게 만들기 위한 것일 뿐 필수적인 것은 아니다.\n",
    "* Python에서는 들여쓰기가 문법의 일부이므로 반드시 지키도록 한다.\n",
    "* 따라서 다음은 바로 위의 코드와는 다르게 작동한다."
   ]
  },
  {
   "cell_type": "code",
   "execution_count": null,
   "metadata": {},
   "outputs": [],
   "source": []
  },
  {
   "cell_type": "code",
   "execution_count": 7,
   "metadata": {},
   "outputs": [
    {
     "name": "stdout",
     "output_type": "stream",
     "text": [
      "do a laundry\n"
     ]
    }
   ],
   "source": [
    "my_status = 'clean'\n",
    "if my_status == 'dirty':\n",
    "    print(\"take a shower\")\n",
    "print(\"do a laundry\")"
   ]
  },
  {
   "cell_type": "markdown",
   "metadata": {},
   "source": [
    "#### 간단한 예제:"
   ]
  },
  {
   "cell_type": "code",
   "execution_count": 2,
   "metadata": {},
   "outputs": [
    {
     "name": "stdout",
     "output_type": "stream",
     "text": [
      "if\n"
     ]
    }
   ],
   "source": [
    "if 3 < 4: print(\"if\")\n",
    "else: print(\"else\")"
   ]
  },
  {
   "cell_type": "code",
   "execution_count": 3,
   "metadata": {},
   "outputs": [
    {
     "name": "stdout",
     "output_type": "stream",
     "text": [
      "if\n"
     ]
    }
   ],
   "source": [
    "if \"3\" < \"4\": print(\"if\")\n",
    "else: print(\"else\")"
   ]
  },
  {
   "cell_type": "markdown",
   "metadata": {},
   "source": [
    "주의 : 조건문에서 두 값이 같은지 비교할 때는 ```==``` 를 이용해야 한다.\n",
    "따라서 다음 코드는 에러가 발생한다."
   ]
  },
  {
   "cell_type": "code",
   "execution_count": 10,
   "metadata": {},
   "outputs": [
    {
     "ename": "SyntaxError",
     "evalue": "invalid syntax (<ipython-input-10-bc1a75b24bad>, line 2)",
     "output_type": "error",
     "traceback": [
      "\u001b[1;36m  File \u001b[1;32m\"<ipython-input-10-bc1a75b24bad>\"\u001b[1;36m, line \u001b[1;32m2\u001b[0m\n\u001b[1;33m    if x = y:\u001b[0m\n\u001b[1;37m         ^\u001b[0m\n\u001b[1;31mSyntaxError\u001b[0m\u001b[1;31m:\u001b[0m invalid syntax\n"
     ]
    }
   ],
   "source": [
    "x, y = 3, 3\n",
    "if x = y:\n",
    "    print(\"x is equal to y.\")\n",
    "else:\n",
    "    print(\"x is different from y.\")"
   ]
  },
  {
   "cell_type": "markdown",
   "metadata": {},
   "source": [
    "주의 : 다음 두 코드의 차이점을 잘 살펴보자."
   ]
  },
  {
   "cell_type": "code",
   "execution_count": 11,
   "metadata": {},
   "outputs": [
    {
     "name": "stdout",
     "output_type": "stream",
     "text": [
      "-1\n"
     ]
    }
   ],
   "source": [
    "x = 1\n",
    "if x > 0:\n",
    "    x = x - 2\n",
    "else:\n",
    "    x = x + 2\n",
    "print(x)"
   ]
  },
  {
   "cell_type": "code",
   "execution_count": 3,
   "metadata": {},
   "outputs": [
    {
     "name": "stdout",
     "output_type": "stream",
     "text": [
      "1\n"
     ]
    }
   ],
   "source": [
    "x = 1\n",
    "if x > 0:\n",
    "    x = x - 2\n",
    "if x <= 0:\n",
    "    x = x + 2\n",
    "print(x)"
   ]
  },
  {
   "cell_type": "markdown",
   "metadata": {},
   "source": [
    "### nested ```if``` statement\n",
    "\n",
    "* 하나의 조건을 검사한 후에, 또다른 조건을 검사해야 될 필요가 있을 수 있다.\n",
    "* 이러한 경우 중첩된 ```if``` 구문을 사용할 수 있다.\n",
    "* 하나의 ```if```문 혹은 ```else```문 내에 또다른 ```if```,```else``` 구문이 나타날 수 있다.\n",
    "   * 마찬가지로 ```if```문 내에 ```if```문 내에 ```if```문이 등장할 수도 있다.\n",
    "* 최소값을 찾는 다음의 코드가 옳게 작동하는지 살펴 보고, 잘못된 부분이 있으면 개선하여 보자."
   ]
  },
  {
   "cell_type": "code",
   "execution_count": 13,
   "metadata": {},
   "outputs": [
    {
     "name": "stdout",
     "output_type": "stream",
     "text": [
      "y is the least\n"
     ]
    }
   ],
   "source": [
    "x=10\n",
    "y=5\n",
    "z=2\n",
    "if x<y:\n",
    "    if x<z:\n",
    "        print(\"x is the least\")\n",
    "    else:\n",
    "        print(\"z is the least\")\n",
    "else: print(\"y is the least\")"
   ]
  },
  {
   "cell_type": "markdown",
   "metadata": {},
   "source": [
    "### ```elif```을 통한 조건 추가 \n",
    "\n",
    "```elif``` 의 문법\n",
    "\n",
    "```\n",
    "if expression1:  \n",
    "  statement1(s)  \n",
    "elif expression2:  \n",
    "  statement2(s)  \n",
    "elif expression3:  \n",
    "  statement3(s)  \n",
    "else:  \n",
    "  statement4(s)\n",
    "```\n",
    "\n",
    "\n",
    "* ```elif``` 문을 사용하면 여러 표현식을 검사하고, 조건 중 하나가 ```True```로 판정되는 코드 블록을 실행\n",
    "* ```else```와 마찬가지로 ```elif``` 프로그램의 목적에 따라 생략이 될 수 있음\n",
    "* 그러나 많아야 한 번 등장하는 ```else```와는 달리, ```if``` 다음에 임의의 수의 ```elif``` 문이 있을 수 있음"
   ]
  },
  {
   "cell_type": "code",
   "execution_count": 4,
   "metadata": {},
   "outputs": [
    {
     "name": "stdout",
     "output_type": "stream",
     "text": [
      "z is the least\n"
     ]
    }
   ],
   "source": [
    "x = 10\n",
    "y = 5\n",
    "z = 2\n",
    "if x < y and x < z: print(\"x is the least\")\n",
    "elif y < z: print(\"y is the least\")\n",
    "else: print(\"z is the least\")"
   ]
  },
  {
   "cell_type": "markdown",
   "metadata": {},
   "source": [
    "* ```if```문에서 ```and``` 를 이용하여 두 조건을 동시에 넣은 것에 주의\n",
    "* ```if```의 조건에 해당하지 않으면 (x가 최소값이 아니라면), 두 번째 조건이 ```elif``` 뒤에 명시되는 것을 확인"
   ]
  },
  {
   "cell_type": "markdown",
   "metadata": {},
   "source": [
    "#### 예제"
   ]
  },
  {
   "cell_type": "code",
   "execution_count": 15,
   "metadata": {},
   "outputs": [
    {
     "name": "stdout",
     "output_type": "stream",
     "text": [
      "three digit number\n"
     ]
    }
   ],
   "source": [
    "x = 123\n",
    "if x < 10:\n",
    "    print('one digit number')\n",
    "elif x < 100:\n",
    "    print('two digit number')\n",
    "elif x < 1000:\n",
    "    print('three digit number')\n",
    "else:\n",
    "    print('large number')"
   ]
  },
  {
   "cell_type": "markdown",
   "metadata": {},
   "source": [
    "#### 예제\n",
    "온라인에서 여성신발을 직구로 구매할때 한국 여성신발 사이즈와 비교할 미국 여성신발 사이즈"
   ]
  },
  {
   "cell_type": "code",
   "execution_count": 9,
   "metadata": {
    "collapsed": true
   },
   "outputs": [
    {
     "name": "stdout",
     "output_type": "stream",
     "text": [
      "6\n"
     ]
    }
   ],
   "source": [
    "x=230\n",
    "if x==210 : print(\"4\")\n",
    "elif x==215 : print(\"4.5\")\n",
    "elif x==220 : print(\"5\")\n",
    "elif x==225 : print(\"5.5\")\n",
    "elif x==230 : print(\"6\")\n",
    "elif x==235 : print(\"6.5\")\n",
    "elif x==240 : print(\"7\")\n",
    "elif x==245 : print(\"7.5\")\n",
    "elif x==250 : print(\"8\")\n",
    "elif x==255 : print(\"8.5\")\n",
    "elif x==260 : print(\"9\")\n",
    "elif x==265 : print(\"9.5\")\n",
    "elif x==270 : print(\"10\")\n",
    "elif x==275 : print(\"10.5\")\n",
    "elif x==280 : print(\"11\")\n",
    "elif x==285 : print(\"11.5\")\n",
    "elif x==290 : print(\"12\")\n",
    "else : print(\"You can't find your size\")"
   ]
  },
  {
   "cell_type": "markdown",
   "metadata": {},
   "source": [
    "#### 예제\n",
    "약수의 개수로 소수 구하기"
   ]
  },
  {
   "cell_type": "code",
   "execution_count": null,
   "metadata": {},
   "outputs": [],
   "source": [
    "#소수:약수가 1과 자기자신인 수 \n",
    "\n",
    "number=int(input(\" 숫자를 입력해주세요  \"))#input를 이용해서 콘솔로 부터 입력받을 수 있음\n",
    "x=0\n",
    "\n",
    "for i in range(1,number+1):#약수를 구하는 코드\n",
    "    if number%i==0:\n",
    "        x=x+1\n",
    "        print(i)\n",
    "    elif number % i==0:\n",
    "        print(i)\n",
    "        x+=1\n",
    "print(number,\"의 약수의 개수:\",x)#약수의 개수를 출력\n",
    "if x==2:#약수의 개수가 2개라는 조건으로 소수인지 판별할 수 있음.\n",
    "    print(number,\"  는 소수입니다.\")\n",
    "else:\n",
    "    print(number,\" 는 소수가 아닙니다.\")"
   ]
  },
  {
   "cell_type": "markdown",
   "metadata": {},
   "source": [
    "#### 예제\n",
    "약수의 개수로 소수 구하기"
   ]
  },
  {
   "cell_type": "code",
   "execution_count": null,
   "metadata": {},
   "outputs": [],
   "source": [
    "#소수:약수가 1과 자기자신인 수 \n",
    "\n",
    "number=int(input(\" 숫자를 입력해주세요  \"))#input를 이용해서 콘솔로 부터 입력받을 수 있음\n",
    "x=0\n",
    "\n",
    "for i in range(1,number+1):#약수를 구하는 코드\n",
    "    if number%i==0:\n",
    "        x=x+1\n",
    "        print(i)\n",
    "    elif number % i==0:\n",
    "        print(i)\n",
    "        x+=1\n",
    "print(number,\"의 약수의 개수:\",x)#약수의 개수를 출력\n",
    "if x==2:#약수의 개수가 2개라는 조건으로 소수인지 판별할 수 있음.\n",
    "    print(number,\"  는 소수입니다.\")\n",
    "else:\n",
    "    print(number,\" 는 소수가 아닙니다.\")"
   ]
  },
  {
   "cell_type": "markdown",
   "metadata": {},
   "source": [
    "#### 예제 \n",
    "다음의 예제는 ```elif```을 사용하여 보다 간단하게 작성할 수 있다. 스스로 작성하여 보자."
   ]
  },
  {
   "cell_type": "code",
   "execution_count": 16,
   "metadata": {},
   "outputs": [
    {
     "name": "stdout",
     "output_type": "stream",
     "text": [
      "Divisible by 3 and not by 2\n"
     ]
    }
   ],
   "source": [
    "if x%2 == 0:\n",
    "    if x%3 == 0:\n",
    "        print('Divisible by 2 and 3')\n",
    "    else:\n",
    "        print('Divisible by 2 and not by 3')\n",
    "elif x%3 == 0:\n",
    "    print('Divisible by 3 and not by 2')"
   ]
  },
  {
   "cell_type": "markdown",
   "metadata": {},
   "source": [
    "#### Boolean 연산 : and, or, not"
   ]
  },
  {
   "cell_type": "code",
   "execution_count": 17,
   "metadata": {},
   "outputs": [
    {
     "data": {
      "text/plain": [
       "True"
      ]
     },
     "execution_count": 17,
     "metadata": {},
     "output_type": "execute_result"
    }
   ],
   "source": [
    "True and True"
   ]
  },
  {
   "cell_type": "code",
   "execution_count": 18,
   "metadata": {},
   "outputs": [
    {
     "data": {
      "text/plain": [
       "False"
      ]
     },
     "execution_count": 18,
     "metadata": {},
     "output_type": "execute_result"
    }
   ],
   "source": [
    "True and False"
   ]
  },
  {
   "cell_type": "code",
   "execution_count": 19,
   "metadata": {},
   "outputs": [
    {
     "data": {
      "text/plain": [
       "False"
      ]
     },
     "execution_count": 19,
     "metadata": {},
     "output_type": "execute_result"
    }
   ],
   "source": [
    "False and True"
   ]
  },
  {
   "cell_type": "code",
   "execution_count": 20,
   "metadata": {},
   "outputs": [
    {
     "data": {
      "text/plain": [
       "False"
      ]
     },
     "execution_count": 20,
     "metadata": {},
     "output_type": "execute_result"
    }
   ],
   "source": [
    "False and False"
   ]
  },
  {
   "cell_type": "code",
   "execution_count": 21,
   "metadata": {},
   "outputs": [
    {
     "data": {
      "text/plain": [
       "True"
      ]
     },
     "execution_count": 21,
     "metadata": {},
     "output_type": "execute_result"
    }
   ],
   "source": [
    "True or True"
   ]
  },
  {
   "cell_type": "code",
   "execution_count": 22,
   "metadata": {},
   "outputs": [
    {
     "data": {
      "text/plain": [
       "True"
      ]
     },
     "execution_count": 22,
     "metadata": {},
     "output_type": "execute_result"
    }
   ],
   "source": [
    "True or False"
   ]
  },
  {
   "cell_type": "code",
   "execution_count": 23,
   "metadata": {},
   "outputs": [
    {
     "data": {
      "text/plain": [
       "True"
      ]
     },
     "execution_count": 23,
     "metadata": {},
     "output_type": "execute_result"
    }
   ],
   "source": [
    "False or True"
   ]
  },
  {
   "cell_type": "code",
   "execution_count": 24,
   "metadata": {},
   "outputs": [
    {
     "data": {
      "text/plain": [
       "False"
      ]
     },
     "execution_count": 24,
     "metadata": {},
     "output_type": "execute_result"
    }
   ],
   "source": [
    "False or False"
   ]
  },
  {
   "cell_type": "code",
   "execution_count": 25,
   "metadata": {},
   "outputs": [
    {
     "data": {
      "text/plain": [
       "False"
      ]
     },
     "execution_count": 25,
     "metadata": {},
     "output_type": "execute_result"
    }
   ],
   "source": [
    "not True"
   ]
  },
  {
   "cell_type": "code",
   "execution_count": 26,
   "metadata": {},
   "outputs": [
    {
     "data": {
      "text/plain": [
       "True"
      ]
     },
     "execution_count": 26,
     "metadata": {},
     "output_type": "execute_result"
    }
   ],
   "source": [
    "not False"
   ]
  },
  {
   "cell_type": "markdown",
   "metadata": {},
   "source": [
    "#### 예제"
   ]
  },
  {
   "cell_type": "code",
   "execution_count": 27,
   "metadata": {},
   "outputs": [
    {
     "name": "stdout",
     "output_type": "stream",
     "text": [
      "else\n"
     ]
    }
   ],
   "source": [
    "x = 3\n",
    "y = 7\n",
    "if x < y and x < 0: print(\"if\")\n",
    "else: print(\"else\")"
   ]
  },
  {
   "cell_type": "code",
   "execution_count": 28,
   "metadata": {},
   "outputs": [
    {
     "name": "stdout",
     "output_type": "stream",
     "text": [
      "if\n"
     ]
    }
   ],
   "source": [
    "x = 3\n",
    "y = 7\n",
    "if x < y or x < 0: print(\"if\")\n",
    "else: print(\"else\")"
   ]
  },
  {
   "cell_type": "code",
   "execution_count": 1,
   "metadata": {},
   "outputs": [
    {
     "name": "stdout",
     "output_type": "stream",
     "text": [
      "Good\n"
     ]
    }
   ],
   "source": [
    "x = 3\n",
    "y = 7\n",
    "if x + y == 10 and x > 0: print(\"Good\")\n",
    "else: print(\"Bad\")"
   ]
  },
  {
   "cell_type": "markdown",
   "metadata": {},
   "source": [
    "예제\n",
    "\n",
    "다음의 예제에서는 파일의 확장자가 .csv, .tsv, .txt일 경우 올바른 파일 형식으로 간주하고, 그렇지 않으면 잘못된 형식이라고 출력한다."
   ]
  },
  {
   "cell_type": "code",
   "execution_count": 1,
   "metadata": {},
   "outputs": [
    {
     "name": "stdout",
     "output_type": "stream",
     "text": [
      "Right file format\n"
     ]
    }
   ],
   "source": [
    "filename = \"mydata.csv\"\n",
    "if filename.endswith(\".csv\") or filename.endswith(\".tsv\") or filename.endswith(\".txt\") :\n",
    "    print(\"Right file format\")\n",
    "else :\n",
    "    print(\"Wrong file format\")"
   ]
  },
  {
   "cell_type": "markdown",
   "metadata": {},
   "source": [
    "#### 예제\n",
    "```input()``` 함수와 결합한 예제"
   ]
  },
  {
   "cell_type": "code",
   "execution_count": 31,
   "metadata": {},
   "outputs": [
    {
     "name": "stdout",
     "output_type": "stream",
     "text": [
      "In Python, = is used for equality comparison, right? Yes or No >> no\n",
      "You have cleared the test.\n",
      "Thanks!\n"
     ]
    }
   ],
   "source": [
    "answer = input(\"In Python, = is used for equality comparison, right? Yes or No >> \").lower()\n",
    "\n",
    "if answer == \"no\" :\n",
    "    print(\"You have cleared the test.\")\n",
    "else :\n",
    "    print(\"You have failed the test.\")\n",
    "\n",
    "print(\"Thanks!\")"
   ]
  },
  {
   "cell_type": "code",
   "execution_count": 1,
   "metadata": {},
   "outputs": [
    {
     "name": "stdout",
     "output_type": "stream",
     "text": [
      "What is the last name of the professor in this subject? LEE\n",
      "That is correct answer\n",
      "BYE!\n"
     ]
    }
   ],
   "source": [
    "## 중간과제를 위해 추가한 예제 ##\n",
    "answer = input(\"What is the last name of the professor in this subject? \").lower()\n",
    "\n",
    "if answer == \"lee\" :\n",
    "    print(\"That is correct answer\")\n",
    "else :\n",
    "    print(\"That is wrong answer\")\n",
    "    \n",
    "print(\"BYE!\")"
   ]
  },
  {
   "cell_type": "markdown",
   "metadata": {},
   "source": [
    "### Inline ```if-else``` statements\n",
    "Python은 다음과 같이 ```if else```를 한 라인에 작성할 수 있도록 지원한다."
   ]
  },
  {
   "cell_type": "code",
   "execution_count": 39,
   "metadata": {},
   "outputs": [
    {
     "name": "stdout",
     "output_type": "stream",
     "text": [
      "large\n"
     ]
    }
   ],
   "source": [
    "a = 37\n",
    "y = \"large\" if a ** 2 > 1000 else \"small\"\n",
    "print(y)"
   ]
  },
  {
   "cell_type": "markdown",
   "metadata": {},
   "source": [
    "위 코드는 아래 코드와 같다."
   ]
  },
  {
   "cell_type": "code",
   "execution_count": 40,
   "metadata": {},
   "outputs": [
    {
     "name": "stdout",
     "output_type": "stream",
     "text": [
      "large\n"
     ]
    }
   ],
   "source": [
    "a = 37\n",
    "if a ** 2 > 1000: y = \"large\"\n",
    "else: y = \"small\"\n",
    "print(y)"
   ]
  },
  {
   "cell_type": "markdown",
   "metadata": {},
   "source": [
    "### 연습문제\n",
    "\n",
    "다음의 연습문제들은 2, 3 단원의 내용만을 이용하여 작성해 보라.\n",
    "\n",
    "* 정수인 변수가 주어졌을 때, 홀수(odd)인지 짝수(even)인지 판별하는 프로그램을 작성하라."
   ]
  },
  {
   "cell_type": "markdown",
   "metadata": {},
   "source": [
    "* 월(month)이 대입된 정수인 변수가 주어졌을 때, 해당 월이 며칠인지 출력하는 프로그램을 작성하라."
   ]
  },
  {
   "cell_type": "markdown",
   "metadata": {},
   "source": [
    " * x, y, z의 세 개의 변수가 있다. 이 세 변수를 검사하여 가장 큰 홀수를 프린트하라. 만약 세 변수가 모두 홀수가 아니라면, 홀수가 없다는 메시지를 출력하라."
   ]
  },
  {
   "cell_type": "markdown",
   "metadata": {},
   "source": [
    " * 삼각형 세 변의 길이가 변수로 주어졌을 때, 정삼각형(Equilateral triangle), 이등변삼각형(Isosceles triangle), 일반삼각형(triangle)을 구분하는 프로그램을 작성하라."
   ]
  },
  {
   "cell_type": "markdown",
   "metadata": {},
   "source": [
    "* 삼각형 세 변의 길이가 변수로 주어졌을 때, 직각 삼각형인지 아닌지 판단하는 프로그램을 작성하라."
   ]
  },
  {
   "cell_type": "markdown",
   "metadata": {},
   "source": [
    "* 두 자리 정수가 대입된 변수를 검사하여, 십의 자리 숫자와 일의 자리 숫자의 합이 10이 넘는지 판단하는 프로그램을 작성하라."
   ]
  },
  {
   "cell_type": "markdown",
   "metadata": {},
   "source": [
    "* 13자리 숫자가 ISBN 13자리 코드의 원칙에 맞는지 판단하는 프로그램을 작성하라.\n",
    "  * ISBN코드가 abcdefghijklm일 때, $a+3b+c+3d+e+3f+g+3h+i+3j+k+3l+m$이 10으로 나누어 떨어져야 한다."
   ]
  },
  {
   "cell_type": "markdown",
   "metadata": {},
   "source": [
    "* 해(year)가 윤년인지를 판단하는 프로그램을 작성하라. 윤년의 규칙은 다음과 같다.\n",
    "  * 서력 기원 연수가 4로 나누어 떨어지는 해는 윤년으로 한다.(1988년, 1992년, 1996년, 2004년, 2008년, 2012년 …)\n",
    "  * 이 중에서 100으로 나누어 떨어지는 해는 평년으로 한다.(1900년, 2100년, 2200년, 2300년, 2500년 …)\n",
    "  * 그중에 400으로 나누어 떨어지는 해는 윤년으로 둔다."
   ]
  },
  {
   "cell_type": "markdown",
   "metadata": {},
   "source": [
    "* 문자열 변수를 검사하여, 마지막 글자가 모음(a, e, i, o, u, A, E, I, O, U)으로 끝나는지 아닌지 판단하는 프로그램을 작성하라."
   ]
  },
  {
   "cell_type": "markdown",
   "metadata": {},
   "source": [
    "* 문자열 변수를 검사하여, 첫 글자와 마지막 글자가 같은지 검사하는 프로그램을 작성하라. 대소문자는 구분하지 않는다. 즉, Mom은 첫 글자와 마지막 글자가 같은 단어로 간주한다."
   ]
  },
  {
   "cell_type": "markdown",
   "metadata": {},
   "source": [
    "* 두 문자열 변수를 검사하여, 첫 글자끼리 서로 같은지 검사하는 프로그램을 작성하라. 대소문자는 구분하지 않는다."
   ]
  },
  {
   "cell_type": "markdown",
   "metadata": {},
   "source": [
    "* 0 이상 100 이하의 값이 입력된 변수를 검사하여, grade를 정하는 프로그램을 작성하라. 규칙은 다음을 따른다.\n",
    "\n",
    "  * 95 이상 : A+  \n",
    "  * 90 이상 95 미만 : A  \n",
    "  * 85 이상 90 미만 : B+  \n",
    "  * 80 이상 85 미만 : B  \n",
    "  * 그 외의 점수 : C  "
   ]
  },
  {
   "cell_type": "markdown",
   "metadata": {},
   "source": [
    "## 예제:  ISBN코드 만들기\n",
    "\n",
    "* 13자리 숫자가 ISBN 13자리 코드의 원칙에 맞는지 판단하는 프로그램을 작성하라.\n",
    "\n",
    "* ISBN코드가 abcdefghijklm일 때,  𝑎+3𝑏+𝑐+3𝑑+𝑒+3𝑓+𝑔+3ℎ+𝑖+3𝑗+𝑘+3𝑙+𝑚 이 10으로 나누어 떨어져야 한다."
   ]
  },
  {
   "cell_type": "code",
   "execution_count": 1,
   "metadata": {},
   "outputs": [
    {
     "name": "stdout",
     "output_type": "stream",
     "text": [
      "Please enter ISBN code.: 1111331111330\n",
      "1 1 1 1 3 3 1 1 1 1 3 3 0\n",
      "Yes, this code is ISBN code.\n"
     ]
    }
   ],
   "source": [
    "# 이 코드는 s21620141에 의해 제공되었습니다.\n",
    "\n",
    "num = input(\"Please enter ISBN code.: \")\n",
    "\n",
    "# 입력한 숫자가 13자리인지를 확인하는 코드\n",
    "# (반복문에 해당하는 챕터는 아니지만,  좀더 깔끔한 코드를 만들기 위하여 while문도 사용했음을 이해해주시기 바랍니다.)\n",
    "while len(num) != 13 :\n",
    "    print(\"Please enter a 13-digit number.\")\n",
    "    num = input(\"Please enter ISBN code.: \")\n",
    "else : num = int(num)\n",
    "\n",
    "# 각 자릿수를 뽑아내는 코드\n",
    "a = num//(10**12)\n",
    "b = (num//(10**11))%10\n",
    "c = (num//(10**10))%10\n",
    "d = (num//(10**9))%10\n",
    "e = (num//(10**8))%10\n",
    "f = (num//(10**7))%10\n",
    "g = (num//(10**6))%10\n",
    "h = (num//(10**5))%10\n",
    "i = (num//(10**4))%10\n",
    "j = (num//(10**3))%10\n",
    "k = (num//(10**2))%10\n",
    "l = (num//(10**1))%10\n",
    "m = (num//1)%10\n",
    "\n",
    "# 자릿수가 맞게 뽑혔는지 확인\n",
    "print(a,b,c,d,e,f,g,h,i,j,k,l,m)\n",
    "\n",
    "# ISBN코드가 맞는지 판별\n",
    "if (a+(3*b)+c+(3*d)+e+(3*f)+g+(3*h)+i+(3*j)+k+(3*l)+m)%10 == 0:\n",
    "    print(\"Yes, this code is ISBN code.\")\n",
    "else: print(\"No this code is not ISBN code.\")"
   ]
  },
  {
   "cell_type": "code",
   "execution_count": 1,
   "metadata": {},
   "outputs": [
    {
     "name": "stdout",
     "output_type": "stream",
     "text": [
      "점수를 입력하시오. : 88\n",
      "B+\n"
     ]
    }
   ],
   "source": [
    "#다음 해설을 s21410771에 의해 제공되었다.\n",
    "\n",
    "point=int(input('점수를 입력하시오. : '))\n",
    "\n",
    "if point >= 95 : print(\"A+\")\n",
    "elif point < 95 and point >= 90 : print(\"A\")\n",
    "elif point < 90 and point >= 85 : print(\"B+\")\n",
    "elif point < 85 and point >= 80 : print(\"B\")\n",
    "else : print(\"C\")\n",
    "\n"
   ]
  },
  {
   "cell_type": "markdown",
   "metadata": {},
   "source": [
    "* 몸무게, 키, 성별이 저장된 변수를 조사하여 비만도를 체크하는 프로그램을 작성하라. 비만도 기준은 다음의 자료를 이용하라.   \n",
    "http://health.cdc.go.kr/health/mobileweb/content/group_view.jsp?CID=XUNT32FT6B"
   ]
  },
  {
   "cell_type": "code",
   "execution_count": 1,
   "metadata": {},
   "outputs": [
    {
     "name": "stdout",
     "output_type": "stream",
     "text": [
      "키: 175\n",
      "몸무게: 80\n",
      "성별: M\n",
      "26.12\n",
      "당신은 1단계 비만입니다.\n"
     ]
    }
   ],
   "source": [
    "height = int(input(\"키: \"))\n",
    "weight = int(input(\"몸무게: \"))\n",
    "gender = input(\"성별: \")\n",
    "\n",
    "BMI = weight / (height*0.01)**2\n",
    "\n",
    "\n",
    "if BMI < 18.5 :\n",
    "    print(round(BMI, 2))\n",
    "    print(\"당신은 저체중입니다.\")\n",
    "\n",
    "elif BMI < 23.0 :\n",
    "    print(round(BMI, 2))\n",
    "    print(\"당신은 정상입니다.\")\n",
    "    \n",
    "elif BMI < 25.0 :\n",
    "    print(round(BMI, 2))\n",
    "    print(\"당신은 비만전단계입니다.\")\n",
    "    \n",
    "elif BMI < 30.0 :\n",
    "    print(round(BMI, 2))\n",
    "    print(\"당신은 1단계 비만입니다.\")\n",
    "\n",
    "elif BMI < 35.0 :\n",
    "    print(round(BMI, 2))\n",
    "    print(\"당신은 2단계 비만입니다.\")\n",
    "\n",
    "elif BMI >= 35 :\n",
    "    print(round(BMI, 2))\n",
    "    print(\"당신은 3단계 비만(고도 비만)입니다.\")"
   ]
  },
  {
   "cell_type": "markdown",
   "metadata": {},
   "source": [
    "# 예제"
   ]
  },
  {
   "cell_type": "markdown",
   "metadata": {},
   "source": [
    "#### 간단한 정수 산술 계산기 프로그램"
   ]
  },
  {
   "cell_type": "code",
   "execution_count": 1,
   "metadata": {},
   "outputs": [
    {
     "name": "stdout",
     "output_type": "stream",
     "text": [
      "정수를 입력하시오: 7\n",
      "연산자를 입력하시오( +, -, *, / ): +\n",
      "정수를 입력하시오: 8\n",
      "7 + 8 = 15\n"
     ]
    }
   ],
   "source": [
    "#이 예제는 s21910668에 의해 제공되었다.\n",
    "\n",
    "x=input(\"정수를 입력하시오: \")\n",
    "x=int(x) #정수형으로 입력받기 위함\n",
    "op=input(\"연산자를 입력하시오( +, -, *, / ): \")\n",
    "y=input(\"정수를 입력하시오: \")\n",
    "y=int(y) #정수형으로 입력받기 위함\n",
    "result=0\n",
    "\n",
    "if op=='+':\n",
    "    result=x+y\n",
    "elif op=='-':\n",
    "    result=x-y\n",
    "elif op=='*':\n",
    "    result=x*y\n",
    "elif op=='/':\n",
    "    result=x/y\n",
    "else:\n",
    "    print(\"지원되지 않는 연산자입니다.\")\n",
    "\n",
    "#print 문에서 +로 연결하기 위함\n",
    "x=str(x) \n",
    "y=str(y) \n",
    "result=str(result)\n",
    "\n",
    "#결과값 print\n",
    "print(x+\" \"+op+\" \"+y+\" = \"+ result)"
   ]
  },
  {
   "cell_type": "markdown",
   "metadata": {},
   "source": [
    "## 예제"
   ]
  },
  {
   "cell_type": "markdown",
   "metadata": {},
   "source": [
    "#### (x,y)좌표를 받아서 좌표가 속하는 사분면을 화면에 출력하는 프로그램"
   ]
  },
  {
   "cell_type": "code",
   "execution_count": 1,
   "metadata": {},
   "outputs": [
    {
     "name": "stdout",
     "output_type": "stream",
     "text": [
      "x: 2\n",
      "y: 3\n",
      "(2,3) 는\n",
      "1사분면 입니다.\n"
     ]
    }
   ],
   "source": [
    "#이 예제는 s21910686에 의해 제공되었습니다.\n",
    "\n",
    "x=input(\"x: \")\n",
    "y=input(\"y: \")\n",
    "print(\"(\"+x+\",\"+y+\") 는\")\n",
    "x=int(x)\n",
    "y=int(y)\n",
    "\n",
    "\n",
    "if x>0 and y>0:\n",
    "    print(\"1사분면 입니다.\")\n",
    "elif x<0 and y>0:\n",
    "    print(\"2사분면 입니다.\")\n",
    "elif x<0 and y<0:\n",
    "    print(\"3사분면 입니다.\")\n",
    "elif x>0 and y<0:\n",
    "    print(\"4사분면 입니다.\")"
   ]
  },
  {
   "cell_type": "markdown",
   "metadata": {},
   "source": [
    "## 예제\n",
    "\n",
    "문자가 소문자인지 대문자인지를 알아내는 프로그램"
   ]
  },
  {
   "cell_type": "code",
   "execution_count": 14,
   "metadata": {},
   "outputs": [
    {
     "name": "stdout",
     "output_type": "stream",
     "text": [
      "문자를 입력하세요:B\n",
      "대문자 입니다\n"
     ]
    }
   ],
   "source": [
    "#이 예제는 s21610709에 의해 제공되었습니다.\n",
    "#아스키코드표를 이용한 것입니다.\n",
    "\n",
    "x=input(\"문자를 입력하세요:\")\n",
    "\n",
    "if 'a' <= x and x <= 'z':\n",
    "    print(\"소문자입니다\")\n",
    "elif 'A' <= x and x <= 'Z':\n",
    "    print(\"대문자 입니다\")\n",
    "else:\n",
    "    print(\"영문자가 아닙니다\")"
   ]
  },
  {
   "cell_type": "markdown",
   "metadata": {},
   "source": [
    "# 예제"
   ]
  },
  {
   "cell_type": "markdown",
   "metadata": {},
   "source": [
    "### 놀이공원 이용시간과 나이에 따른 자유이용권의 가격을 계산하는 프로그램"
   ]
  },
  {
   "cell_type": "markdown",
   "metadata": {},
   "source": [
    "#### -자유이용권 (오후 5시 이전)\n",
    "###### --대인: 34000원, 소인(3~12세/65세 이상): 25000원\n",
    "\n",
    "#### -야간이용권(오후 5시 이후)\n",
    "###### --나이에 상관없이 10000원\n"
   ]
  },
  {
   "cell_type": "code",
   "execution_count": 13,
   "metadata": {},
   "outputs": [
    {
     "name": "stdout",
     "output_type": "stream",
     "text": [
      "나이를 입력하시오: 21\n",
      "현재 시간을 입력하시오(24시간 단위):11\n",
      "요금은 34000원 입니다.\n"
     ]
    }
   ],
   "source": [
    "#이 예제는 s21910707에 의해 제공되었습니다.\n",
    "\n",
    "age = int (input ('나이를 입력하시오: '))\n",
    "time = int (input ('현재 시간을 입력하시오(24시간 단위):'))\n",
    "\n",
    "if time < 17:\n",
    "    if age < 3:\n",
    "        fee = 0     \n",
    "    elif age >= 65 or age <= 12:\n",
    "        fee = 25000\n",
    "    else:\n",
    "        fee = 34000\n",
    "else:\n",
    "    if age < 3:\n",
    "        fee = 0\n",
    "    else:\n",
    "        fee = 10000\n",
    "        \n",
    "print('요금은 ' + str(fee) + '원 입니다.')\n"
   ]
  },
  {
   "cell_type": "markdown",
   "metadata": {},
   "source": [
    "### 예제"
   ]
  },
  {
   "cell_type": "markdown",
   "metadata": {},
   "source": [
    "삼각형 세 변의 길이가 변수로 주어졌을 때, 정삼각형(Equilateral triangle), 이등변삼각형(Isosceles triangle), 일반삼각형(triangle)을 구분하는 프로그램을 작성하라."
   ]
  },
  {
   "cell_type": "code",
   "execution_count": null,
   "metadata": {},
   "outputs": [],
   "source": [
    "a= int(input('첫번째 변의 길이 : '))\n",
    "b= int(input('두번째 변의 길이 : '))\n",
    "c= int(input('세번째 변의 길이 : '))\n",
    "\n",
    "\n",
    "if a==b==c:\n",
    "    print('정삼각형입니다')\n",
    "elif a==b or b==c or c==a:\n",
    "    print('이등변삼각형입니다')\n",
    "else :\n",
    "    print('일반삼각형입니다')\n",
    "    "
   ]
  },
  {
   "cell_type": "markdown",
   "metadata": {},
   "source": [
    "### 예제"
   ]
  },
  {
   "cell_type": "markdown",
   "metadata": {},
   "source": [
    "x, y, z의 세 개의 변수가 있다. 이 세 변수를 검사하여 가장 큰 홀수를 프린트하라. 만약 세 변수가 모두 홀수가 아니라면, 홀수가 없다는 메시지를 출력하라."
   ]
  },
  {
   "cell_type": "code",
   "execution_count": null,
   "metadata": {},
   "outputs": [],
   "source": [
    "x = int(input('input x: '))\n",
    "y = int(input('input y: '))\n",
    "z = int(input('input z: '))\n",
    "\n",
    "if x%2 != 0 and y%2 != 0 and z%2 != 0:   # x,y,z 다 홀수 일때 \n",
    "    if x>y and x>z:\n",
    "        print('x is the biggest odd.')\n",
    "    elif y>x and y>z:\n",
    "        print('y is the biggest odd.')\n",
    "    elif x==y==z:\n",
    "        print('x, y and z are odd and same numbers.')\n",
    "    else:\n",
    "        print('z is the biggest odd.')\n",
    "elif x%2 != 0 and y%2 != 0 and z%2 == 0:    #x,y 홀 z 짝\n",
    "    if x>y:\n",
    "        print('x is the biggest odd.')\n",
    "    elif y>x:\n",
    "        print('y is the biggest odd.')\n",
    "    elif x==y:\n",
    "        print('x, y are the biggest and odd numbers')\n",
    "elif x%2 != 0 and y%2 == 0 and z%2 != 0:    #x,z 홀 y 짝\n",
    "    if x>z:\n",
    "        print('x is the biggest odd.')\n",
    "    elif z>x:\n",
    "        print('z is the biggest odd.')\n",
    "    elif x==z:\n",
    "        print('x, z are the biggest and odd numbers')\n",
    "elif x%2 == 0 and y%2 != 0 and z%2 != 0:   #y,z 홀 x 짝\n",
    "    if y>z:\n",
    "        print('y is the biggest odd.')\n",
    "    elif z>y:\n",
    "        print('z is the biggest odd.') \n",
    "    elif y==z:\n",
    "        print('y, z are the biggest and odd numbers')\n",
    "elif x%2 != 0 and y%2 == 0 and z%2 == 0:   #y,z 짝 x 홀\n",
    "    print('x is the biggest odd.')\n",
    "elif x%2 == 0 and y%2 != 0 and z%2 == 0:  #x,z 짝 y 홀\n",
    "    print('y is the biggestodd.')\n",
    "elif x%2 == 0 and y%2 == 0 and z%2 != 0:  #x,y 짝 z 홀\n",
    "    print('z is the biggest odd.')\n",
    "\n",
    "else: # x,y,z 다 짝수 일때\n",
    "    print('There\\'s no odd number. ')\n",
    "    "
   ]
  },
  {
   "cell_type": "markdown",
   "metadata": {},
   "source": [
    "## 예제\n",
    "\n",
    "윤년을 구하는 프로그램을 만드시오.\n",
    "\n",
    "(윤년이란? 4의 배수인 년도를 윤년으로 하고 100의 배수인 년도는 평년으로 한다. 그 와중에 400의 배수는 윤년으로 한다.)"
   ]
  },
  {
   "cell_type": "code",
   "execution_count": 26,
   "metadata": {},
   "outputs": [
    {
     "name": "stdout",
     "output_type": "stream",
     "text": [
      "연도를 입력하시오400\n",
      "윤년입니다\n"
     ]
    }
   ],
   "source": [
    "# 이 예제는 s21610714에 의해 제공되었습니다.\n",
    "\n",
    "year=int(input(\"연도를 입력하시오\"))\n",
    "if year % 400 ==0:\n",
    "    print(\"윤년입니다\")\n",
    "elif year % 4 ==0:\n",
    "    if year % 100 != 0:\n",
    "        print(\"윤년입니다.\")\n",
    "    else:\n",
    "        print(\"평년입니다.\")\n",
    "else:\n",
    "    print(\"평년입니다.\")"
   ]
  },
  {
   "cell_type": "markdown",
   "metadata": {},
   "source": [
    "## 예제\n",
    "입력받은 a,r,n을 이용하여 등비수열 an = a * r^(n-1)의 합 Sn을 구하는 프로그램"
   ]
  },
  {
   "cell_type": "code",
   "execution_count": 1,
   "metadata": {},
   "outputs": [
    {
     "name": "stdout",
     "output_type": "stream",
     "text": [
      "input a: 4\n",
      "input r: 3\n",
      "input n: 3\n",
      "Sn = 52.0\n"
     ]
    }
   ],
   "source": [
    "##### 이 예제는 s21810670에 의해 제공되었다.\n",
    "\n",
    "a = int(input('input a: '))\n",
    "r = int(input('input r: '))\n",
    "n = int(input('input n: '))\n",
    "\n",
    "if r == 1 :\n",
    "    print(\"Sn =\", a * n)\n",
    "elif r != 1 :\n",
    "    if r > 1 :\n",
    "        print(\"Sn =\", (a * ((r ** n) - 1)) / (r - 1))\n",
    "    elif r < 1 :\n",
    "        print(\"Sn =\", (a * (1 - (r ** n))) / (r - 1))"
   ]
  },
  {
   "cell_type": "markdown",
   "metadata": {},
   "source": [
    "## 예제\n",
    "\n",
    "#### 두 자리 정수가 대입된 변수를 검사하여, 십의 자리 숫자와 일의 자리 숫자의 합이 10이 넘는지 판단하는 프로그램을 작성하라."
   ]
  },
  {
   "cell_type": "code",
   "execution_count": 19,
   "metadata": {},
   "outputs": [
    {
     "name": "stdout",
     "output_type": "stream",
     "text": [
      "두 자리의 정수를 입력하세요. : 55\n",
      "십의 자리 숫자와 일의 자리 숫자의 합이 10인 정수입니다.\n"
     ]
    }
   ],
   "source": [
    "# 이 예제는 s21720063에 의해 제공되었습니다.\n",
    "num = int(input(\"두 자리의 정수를 입력하세요. : \"))\n",
    "x = num//10\n",
    "y = num%10\n",
    "if num>=100 or num <= 9:\n",
    "    print(\"두 자리의 정수가 아닙니다.\")\n",
    "elif x + y > 10:\n",
    "    print(\"십의 자리 숫자와 일의 자리 숫자의 합이 10이 넘는 정수입니다.\")\n",
    "elif x + y == 10:\n",
    "    print(\"십의 자리 숫자와 일의 자리 숫자의 합이 10인 정수입니다.\")\n",
    "else : print(\"십의 자리 숫자와 일의 자리 숫자의 합이 10이 넘지 않는 정수입니다..\")"
   ]
  },
  {
   "cell_type": "markdown",
   "metadata": {},
   "source": [
    "#### 예제\n",
    "\n",
    "다음의 예제는 상품의 가격과 지불한 돈을 입력받아 거스름돈을 계산하는 예제이다.\n",
    "조건문을 이용하여 50000원, 10000원, 1000원, 500원, 100원,10원을 각각 몇개 거슬러 주면되는지 작성하라."
   ]
  },
  {
   "cell_type": "code",
   "execution_count": 3,
   "metadata": {},
   "outputs": [
    {
     "name": "stdout",
     "output_type": "stream",
     "text": [
      "상품의 가격은 얼마입니까? : 54560\n",
      "얼마를 받았습니까? : 100000\n",
      "거스름돈은 45440 원 입니다.\n",
      "거스름돈을 아래와 같이 지급합니다.\n",
      ", 10,000원:  4 장, 5,000원:  1 장, 100원:  4 개, 10원:  4 개"
     ]
    }
   ],
   "source": [
    "price = int(input(\"상품의 가격은 얼마입니까? : \")) \n",
    "payment = int(input(\"얼마를 받았습니까? : \")) \n",
    "change = payment - price \n",
    "\n",
    "if price == payment : \n",
    "    print(\"거스름돈을 지급하지 않습니다.\") \n",
    "\n",
    "elif price > payment : \n",
    "    print(\"돈을\",price-payment,\"원 더 받아야합니다.\") \n",
    "\n",
    "else : \n",
    "    print(\"거스름돈은\",change,\"원 입니다.\") \n",
    "    print(\"거스름돈을 아래와 같이 지급합니다.\") \n",
    "\n",
    "\n",
    "    change_50000 = change//50000 \n",
    "    change_10000 = (change - change_50000*50000)//10000 \n",
    "    change_5000 = (change - change_50000*50000 - change_10000*10000)//5000 \n",
    "    change_1000 = (change - change_50000*50000 - change_10000*10000 - change_5000*5000)//1000 \n",
    "    change_500 = (change - change_50000*50000 - change_10000*10000 - change_5000*5000 - change_1000*1000)//500 \n",
    "    change_100 = (change - change_50000*50000 - change_10000*10000 - change_5000*5000 - change_1000*1000 - change_500*500)//100 \n",
    "    change_50 = (change - change_50000*50000 - change_10000*10000 - change_5000*5000 - change_1000*1000 - change_500*500 - change_100*100)//50 \n",
    "    change_10 = (change - change_50000*50000 - change_10000*10000 - change_5000*5000 - change_1000*1000 - change_500*500 - change_100*100 - change_50*50)//10 \n",
    "\n",
    "    if change_50000 > 0 : \n",
    "        print(\"50,000원: \", change_50000, \"장\", end = \"\") \n",
    "    if change_10000 > 0 : \n",
    "        print(\", 10,000원: \",change_10000,\"장\", end = \"\") \n",
    "    if change_5000 > 0 : \n",
    "        print(\", 5,000원: \" , change_5000,\"장\", end = \"\") \n",
    "    if change_1000 > 0 : \n",
    "        print(\", 1,000원: \" ,change_1000,\"장\", end = \"\") \n",
    "    if change_500 > 0 : \n",
    "        print(\", 500원: \",change_500,\"개\", end = \"\") \n",
    "    if change_100 > 0 : \n",
    "        print(\", 100원: \",change_100,\"개\", end = \"\") \n",
    "    if change_50 > 0 : \n",
    "        print(\", 50원: \" ,change_50,\"개\", end = \"\") \n",
    "    if change_10 > 0 : \n",
    "        print(\", 10원: \" ,change_10,\"개\" , end = \"\") "
   ]
  },
  {
   "cell_type": "markdown",
   "metadata": {},
   "source": [
    "문자열 변수를 검사하여, 마지막 글자가 모음(a, e, i, o, u, A, E, I, O, U)으로 끝나는지 아닌지 판단하는 프로그램을 작성하라."
   ]
  },
  {
   "cell_type": "code",
   "execution_count": 4,
   "metadata": {},
   "outputs": [
    {
     "name": "stdout",
     "output_type": "stream",
     "text": [
      "문자를 입력 입력하세요 : apple\n",
      "last_letter : e\n",
      "끝문자가 'e'이므로 모음으로 끝납니다.\n"
     ]
    }
   ],
   "source": [
    "word =input(\"문자를 입력 입력하세요 : \")\n",
    "last_letter =word[-1]\n",
    "print(\"last_letter :\",last_letter )\n",
    "\n",
    "if last_letter == \"a\": print(\"끝문자가 'a'이므로 모음으로 끝납니다.\")\n",
    "elif last_letter == \"e\" :  print(\"끝문자가 'e'이므로 모음으로 끝납니다.\")\n",
    "elif last_letter == \"i\" :  print(\"끝문자가 'i'이므로 모음으로 끝납니다.\")\n",
    "elif last_letter == \"o\" :  print(\"끝문자가 'o'이므로 모음으로 끝납니다.\")\n",
    "elif last_letter == \"u\" :  print(\"끝문자가 'u'이므로 모음으로 끝납니다.\")\n",
    "elif last_letter == \"A\" :  print(\"끝문자가 'A'이므로 모음으로 끝납니다.\")\n",
    "elif last_letter == \"E\" :  print(\"끝문자가 'E'이므로 모음으로 끝납니다.\")\n",
    "elif last_letter == \"I\" :  print(\"끝문자가 'I'이므로 모음으로 끝납니다.\")    \n",
    "elif last_letter == \"O\" :  print(\"끝문자가 'O'이므로 모음으로 끝납니다.\")\n",
    "elif last_letter == \"U\" :  print(\"끝문자가 'U'이므로 모음으로 끝납니다.\")\n",
    "else : print(\"끝문자가 모음이 아닙니다.\")"
   ]
  },
  {
   "cell_type": "markdown",
   "metadata": {},
   "source": [
    "# 예제\n",
    "문자열 변수를 검사하여, 첫 글자와 마지막 글자가 같은지 검사하는 프로그램을 작성하라. 대소문자는 구분하지 않는다. 즉, Mom은 첫 글자와 마지막 글자가 같은 단어로 간주한다."
   ]
  },
  {
   "cell_type": "code",
   "execution_count": 6,
   "metadata": {},
   "outputs": [
    {
     "name": "stdout",
     "output_type": "stream",
     "text": [
      "단어를 입력하시오 : sos\n",
      "True\n"
     ]
    }
   ],
   "source": [
    "#이 예제는 s21610698에 의해 제공되었다.\n",
    "word = input(\"단어를 입력하시오 : \")\n",
    "\n",
    "circular_letter = True #True 대문자 주의!\n",
    "for x in range(len(word)//2):\n",
    "    if word[x] != word[-1 -x]:\n",
    "        circular_letter = False #False 대문자 주의!\n",
    "        break\n",
    "        \n",
    "print(circular_letter)        "
   ]
  },
  {
   "cell_type": "code",
   "execution_count": null,
   "metadata": {},
   "outputs": [],
   "source": []
  }
 ],
 "metadata": {
  "kernelspec": {
   "display_name": "Python 3",
   "language": "python",
   "name": "python3"
  },
  "language_info": {
   "codemirror_mode": {
    "name": "ipython",
    "version": 3
   },
   "file_extension": ".py",
   "mimetype": "text/x-python",
   "name": "python",
   "nbconvert_exporter": "python",
   "pygments_lexer": "ipython3",
   "version": "3.6.8"
  }
 },
 "nbformat": 4,
 "nbformat_minor": 2
}
